{
 "cells": [
  {
   "cell_type": "markdown",
   "metadata": {},
   "source": [
    "## Get meta.csv\n",
    "\n",
    "Reorganize the information contained in the .coords file into the form\n",
    "center(a string, index), VAR,BURGLARY-THEFT-MOTOR_VEHICLE_THEFT,HOMICIDE-ASSAULT-BATTERY,lat1,lat2,lon1,lon2\n",
    "\n",
    "The reason for doing so is that some tiles doesn't have `HOMICIDE-ASSAULT-BATTERY` data"
   ]
  },
  {
   "cell_type": "code",
   "execution_count": 1,
   "metadata": {},
   "outputs": [],
   "source": [
    "import pandas as pd\n",
    "import numpy as np\n",
    "from functools import reduce"
   ]
  },
  {
   "cell_type": "code",
   "execution_count": 2,
   "metadata": {},
   "outputs": [],
   "source": [
    "variables_ = pd.read_csv(\n",
    "    '../data/CRIME-_2014-01-01_2016-12-31.coords', \n",
    "    sep='#', \n",
    "    names=['lat1', 'lat2', 'lon1', 'lon2', 'type'])"
   ]
  },
  {
   "cell_type": "code",
   "execution_count": 3,
   "metadata": {},
   "outputs": [],
   "source": [
    "latc = (variables_.lat1 + variables_.lat2) / 2\n",
    "lonc = (variables_.lon1 + variables_.lon2) / 2\n",
    "center = latc.apply(lambda x : '{:.4f}'.format(x)) + '#' + lonc.apply(lambda x : '{:.4f}'.format(x))\n",
    "variables_['index'] = variables_.index\n",
    "variables_.index = center"
   ]
  },
  {
   "cell_type": "code",
   "execution_count": 7,
   "metadata": {},
   "outputs": [
    {
     "name": "stdout",
     "output_type": "stream",
     "text": [
      "VAR 2339\n",
      "BURGLARY-THEFT-MOTOR_VEHICLE_THEFT 2339\n",
      "HOMICIDE-ASSAULT-BATTERY 1487\n"
     ]
    },
    {
     "data": {
      "text/html": [
       "<div>\n",
       "<style scoped>\n",
       "    .dataframe tbody tr th:only-of-type {\n",
       "        vertical-align: middle;\n",
       "    }\n",
       "\n",
       "    .dataframe tbody tr th {\n",
       "        vertical-align: top;\n",
       "    }\n",
       "\n",
       "    .dataframe thead th {\n",
       "        text-align: right;\n",
       "    }\n",
       "</style>\n",
       "<table border=\"1\" class=\"dataframe\">\n",
       "  <thead>\n",
       "    <tr style=\"text-align: right;\">\n",
       "      <th></th>\n",
       "      <th>VAR</th>\n",
       "      <th>BURGLARY-THEFT-MOTOR_VEHICLE_THEFT</th>\n",
       "      <th>HOMICIDE-ASSAULT-BATTERY</th>\n",
       "      <th>lat1</th>\n",
       "      <th>lat2</th>\n",
       "      <th>lon1</th>\n",
       "      <th>lon2</th>\n",
       "    </tr>\n",
       "  </thead>\n",
       "  <tbody>\n",
       "    <tr>\n",
       "      <th>41.6562#-87.6133</th>\n",
       "      <td>0</td>\n",
       "      <td>2339</td>\n",
       "      <td>4678</td>\n",
       "      <td>41.65477</td>\n",
       "      <td>41.65754</td>\n",
       "      <td>-87.61508</td>\n",
       "      <td>-87.61156</td>\n",
       "    </tr>\n",
       "    <tr>\n",
       "      <th>41.6562#-87.6063</th>\n",
       "      <td>1</td>\n",
       "      <td>2340</td>\n",
       "      <td>4679</td>\n",
       "      <td>41.65477</td>\n",
       "      <td>41.65754</td>\n",
       "      <td>-87.60804</td>\n",
       "      <td>-87.60452</td>\n",
       "    </tr>\n",
       "    <tr>\n",
       "      <th>41.6727#-87.6415</th>\n",
       "      <td>3</td>\n",
       "      <td>2342</td>\n",
       "      <td>4680</td>\n",
       "      <td>41.67136</td>\n",
       "      <td>41.67412</td>\n",
       "      <td>-87.64322</td>\n",
       "      <td>-87.63970</td>\n",
       "    </tr>\n",
       "    <tr>\n",
       "      <th>41.6727#-87.6344</th>\n",
       "      <td>4</td>\n",
       "      <td>2343</td>\n",
       "      <td>4681</td>\n",
       "      <td>41.67136</td>\n",
       "      <td>41.67412</td>\n",
       "      <td>-87.63618</td>\n",
       "      <td>-87.63266</td>\n",
       "    </tr>\n",
       "    <tr>\n",
       "      <th>41.6755#-87.6204</th>\n",
       "      <td>7</td>\n",
       "      <td>2346</td>\n",
       "      <td>4682</td>\n",
       "      <td>41.67412</td>\n",
       "      <td>41.67688</td>\n",
       "      <td>-87.62211</td>\n",
       "      <td>-87.61859</td>\n",
       "    </tr>\n",
       "  </tbody>\n",
       "</table>\n",
       "</div>"
      ],
      "text/plain": [
       "                  VAR  BURGLARY-THEFT-MOTOR_VEHICLE_THEFT  \\\n",
       "41.6562#-87.6133    0                                2339   \n",
       "41.6562#-87.6063    1                                2340   \n",
       "41.6727#-87.6415    3                                2342   \n",
       "41.6727#-87.6344    4                                2343   \n",
       "41.6755#-87.6204    7                                2346   \n",
       "\n",
       "                  HOMICIDE-ASSAULT-BATTERY      lat1      lat2      lon1  \\\n",
       "41.6562#-87.6133                      4678  41.65477  41.65754 -87.61508   \n",
       "41.6562#-87.6063                      4679  41.65477  41.65754 -87.60804   \n",
       "41.6727#-87.6415                      4680  41.67136  41.67412 -87.64322   \n",
       "41.6727#-87.6344                      4681  41.67136  41.67412 -87.63618   \n",
       "41.6755#-87.6204                      4682  41.67412  41.67688 -87.62211   \n",
       "\n",
       "                      lon2  \n",
       "41.6562#-87.6133 -87.61156  \n",
       "41.6562#-87.6063 -87.60452  \n",
       "41.6727#-87.6415 -87.63970  \n",
       "41.6727#-87.6344 -87.63266  \n",
       "41.6755#-87.6204 -87.61859  "
      ]
     },
     "execution_count": 7,
     "metadata": {},
     "output_type": "execute_result"
    }
   ],
   "source": [
    "types = variables_.type.unique()\n",
    "dfs = []\n",
    "\n",
    "for t in types:\n",
    "    df = variables_[variables_.type==t].copy()\n",
    "    print(t, df.shape[0])\n",
    "    df.rename(columns={'index': t}, inplace=True)\n",
    "    dfs.append(df)\n",
    "    \n",
    "meta = reduce(lambda x, y: x.merge(y, left_index=True, right_index=True), dfs)\n",
    "meta = meta[list(types) + ['lat1', 'lat2', 'lon1', 'lon2']]                  \n",
    "meta.to_csv('../data/meta.csv')\n",
    "meta.head()"
   ]
  }
 ],
 "metadata": {
  "kernelspec": {
   "display_name": "Python 3",
   "language": "python",
   "name": "python3"
  },
  "language_info": {
   "codemirror_mode": {
    "name": "ipython",
    "version": 3
   },
   "file_extension": ".py",
   "mimetype": "text/x-python",
   "name": "python",
   "nbconvert_exporter": "python",
   "pygments_lexer": "ipython3",
   "version": "3.7.0"
  }
 },
 "nbformat": 4,
 "nbformat_minor": 2
}
