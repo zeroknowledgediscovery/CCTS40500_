{
 "cells": [
  {
   "cell_type": "code",
   "execution_count": 278,
   "metadata": {},
   "outputs": [],
   "source": [
    "import numpy as np\n",
    "import matplotlib.pyplot as plt\n",
    "from scipy.stats import norm\n",
    "\n",
    "from keras import backend as K\n",
    "\n",
    "from keras.layers import Input, Dense, Lambda, Layer, Add, Multiply\n",
    "from keras.models import Model, Sequential\n",
    "from keras.datasets import mnist\n",
    "\n",
    "\n",
    "original_dim = 1000\n",
    "intermediate_dim = 512\n",
    "latent_dim = 2\n",
    "batch_size = 100\n",
    "epochs = 100\n",
    "epsilon_std = 1.0\n"
   ]
  },
  {
   "cell_type": "code",
   "execution_count": 279,
   "metadata": {},
   "outputs": [],
   "source": [
    "\n",
    "def nll(y_true, y_pred):\n",
    "    \"\"\" Negative log likelihood (Bernoulli). \"\"\"\n",
    "\n",
    "    # keras.losses.binary_crossentropy gives the mean\n",
    "    # over the last axis. we require the sum\n",
    "    return K.sum(K.binary_crossentropy(y_true, y_pred), axis=-1)\n",
    "\n",
    "\n",
    "class KLDivergenceLayer(Layer):\n",
    "\n",
    "    \"\"\" Identity transform layer that adds KL divergence\n",
    "    to the final model loss.\n",
    "    \"\"\"\n",
    "\n",
    "    def __init__(self, *args, **kwargs):\n",
    "        self.is_placeholder = True\n",
    "        super(KLDivergenceLayer, self).__init__(*args, **kwargs)\n",
    "\n",
    "    def call(self, inputs):\n",
    "\n",
    "        mu, log_var = inputs\n",
    "\n",
    "        kl_batch = - .5 * K.sum(1 + log_var -\n",
    "                                K.square(mu) -\n",
    "                                K.exp(log_var), axis=-1)\n",
    "\n",
    "        self.add_loss(K.mean(kl_batch), inputs=inputs)\n",
    "\n",
    "        return inputs\n",
    "\n"
   ]
  },
  {
   "cell_type": "code",
   "execution_count": 280,
   "metadata": {},
   "outputs": [],
   "source": [
    "decoder = Sequential([\n",
    "    Dense(intermediate_dim, input_dim=latent_dim, activation='relu'),\n",
    "    Dense(original_dim, activation='sigmoid')\n",
    "])\n",
    "\n",
    "x = Input(shape=(original_dim,))\n",
    "h = Dense(intermediate_dim, activation='relu')(x)\n",
    "\n",
    "z_mu = Dense(latent_dim)(h)\n",
    "z_log_var = Dense(latent_dim)(h)\n",
    "\n",
    "z_mu, z_log_var = KLDivergenceLayer()([z_mu, z_log_var])\n",
    "z_sigma = Lambda(lambda t: K.exp(.5*t))(z_log_var)\n",
    "\n",
    "eps = Input(tensor=K.random_normal(stddev=epsilon_std,\n",
    "                                   shape=(K.shape(x)[0], latent_dim)))\n",
    "z_eps = Multiply()([z_sigma, eps])\n",
    "z = Add()([z_mu, z_eps])\n",
    "\n",
    "x_pred = decoder(z)\n",
    "\n",
    "vae = Model(inputs=[x, eps], outputs=x_pred)\n",
    "vae.compile(optimizer='rmsprop', loss=nll)\n"
   ]
  },
  {
   "cell_type": "code",
   "execution_count": 281,
   "metadata": {},
   "outputs": [],
   "source": [
    "import pandas as pd\n",
    "import glob\n",
    "from sklearn.model_selection import train_test_split\n"
   ]
  },
  {
   "cell_type": "code",
   "execution_count": 282,
   "metadata": {},
   "outputs": [],
   "source": [
    "def splitw(x):\n",
    "    return np.array([y for y in x])\n",
    "#.replace('T','1'),replace('G','2').replace('C','3')"
   ]
  },
  {
   "cell_type": "code",
   "execution_count": 283,
   "metadata": {},
   "outputs": [
    {
     "name": "stdout",
     "output_type": "stream",
     "text": [
      "     61      60  550167 ../hwdata/hiv/hiv-db-LTNP.seq\r\n",
      "     38      37  341344 ../hwdata/hiv/hiv-db-SP.seq\r\n",
      "     24      23  205225 ../hwdata/hiv/hiv-db-zP.seq\r\n",
      "     39      38  344731 ../hwdata/hiv/hiv-db-zRP.seq\r\n",
      "    162     158 1441467 total\r\n"
     ]
    }
   ],
   "source": [
    "FILES=glob.glob('../hwdata/hiv/*seq')\n",
    "! wc ../hwdata/hiv/*seq"
   ]
  },
  {
   "cell_type": "code",
   "execution_count": 284,
   "metadata": {},
   "outputs": [
    {
     "data": {
      "text/plain": [
       "(158,)"
      ]
     },
     "execution_count": 284,
     "metadata": {},
     "output_type": "execute_result"
    }
   ],
   "source": [
    "data=pd.concat([pd.read_csv(i,header=None) for i in FILES])\n",
    "\n",
    "data1=np.array([x1 for x1 in np.squeeze(data)])\n",
    "\n",
    "data2=np.array([splitw(x1.replace('A','1').replace('T','2').replace('G','3').replace('C','4')).astype(int) for x1 in data1])\n",
    "\n",
    "data2.shape"
   ]
  },
  {
   "cell_type": "code",
   "execution_count": 285,
   "metadata": {},
   "outputs": [],
   "source": [
    "X=[]\n",
    "dim1=158\n",
    "for i in data2:\n",
    "    X=np.append(X,i[:original_dim])\n",
    "X=X.reshape(dim1,int(original_dim))\n",
    "X=X/4."
   ]
  },
  {
   "cell_type": "code",
   "execution_count": 286,
   "metadata": {},
   "outputs": [
    {
     "data": {
      "text/plain": [
       "array([0., 0., 0., 0., 0., 0., 0., 0., 0., 0., 0., 0., 0., 0., 0., 0., 0.,\n",
       "       0., 0., 0., 0., 0., 0., 0., 0., 0., 0., 0., 0., 0., 0., 0., 0., 0.,\n",
       "       0., 0., 0., 0., 0., 0., 0., 0., 0., 0., 0., 0., 0., 0., 0., 0., 0.,\n",
       "       0., 0., 0., 0., 0., 0., 0., 0., 0., 1., 1., 1., 1., 1., 1., 1., 1.,\n",
       "       1., 1., 1., 1., 1., 1., 1., 1., 1., 1., 1., 1., 1., 1., 1., 1., 1.,\n",
       "       1., 1., 1., 1., 1., 1., 1., 1., 1., 1., 1., 1., 2., 2., 2., 2., 2.,\n",
       "       2., 2., 2., 2., 2., 2., 2., 2., 2., 2., 2., 2., 2., 2., 2., 2., 2.,\n",
       "       2., 3., 3., 3., 3., 3., 3., 3., 3., 3., 3., 3., 3., 3., 3., 3., 3.,\n",
       "       3., 3., 3., 3., 3., 3., 3., 3., 3., 3., 3., 3., 3., 3., 3., 3., 3.,\n",
       "       3., 3., 3., 3., 3.])"
      ]
     },
     "execution_count": 286,
     "metadata": {},
     "output_type": "execute_result"
    }
   ],
   "source": [
    "y=np.array([0*np.ones(60),1*np.ones(37),2*np.ones(23),3*np.ones(38)])\n",
    "y=np.squeeze(y)\n",
    "YY=[]\n",
    "for i in y:\n",
    "    YY=np.append(YY,i)\n",
    "YY"
   ]
  },
  {
   "cell_type": "code",
   "execution_count": 287,
   "metadata": {},
   "outputs": [],
   "source": [
    "x_train, x_test, y_train,  y_test=train_test_split(X,YY,test_size=.2)"
   ]
  },
  {
   "cell_type": "code",
   "execution_count": 288,
   "metadata": {},
   "outputs": [
    {
     "data": {
      "text/plain": [
       "(32, 1000)"
      ]
     },
     "execution_count": 288,
     "metadata": {},
     "output_type": "execute_result"
    }
   ],
   "source": [
    "x_test.shape"
   ]
  },
  {
   "cell_type": "code",
   "execution_count": 289,
   "metadata": {},
   "outputs": [
    {
     "name": "stdout",
     "output_type": "stream",
     "text": [
      "Train on 126 samples, validate on 32 samples\n",
      "Epoch 1/100\n",
      "126/126 [==============================] - 0s 3ms/step - loss: 764.5910 - val_loss: 695.2400\n",
      "Epoch 2/100\n",
      "126/126 [==============================] - 0s 184us/step - loss: 694.7413 - val_loss: 691.3505\n",
      "Epoch 3/100\n",
      "126/126 [==============================] - 0s 164us/step - loss: 690.1971 - val_loss: 685.0285\n",
      "Epoch 4/100\n",
      "126/126 [==============================] - 0s 177us/step - loss: 684.4441 - val_loss: 685.5449\n",
      "Epoch 5/100\n",
      "126/126 [==============================] - 0s 178us/step - loss: 685.2478 - val_loss: 681.4565\n",
      "Epoch 6/100\n",
      "126/126 [==============================] - 0s 165us/step - loss: 680.1861 - val_loss: 680.7792\n",
      "Epoch 7/100\n",
      "126/126 [==============================] - 0s 161us/step - loss: 680.7606 - val_loss: 682.3705\n",
      "Epoch 8/100\n",
      "126/126 [==============================] - 0s 164us/step - loss: 681.3193 - val_loss: 680.5606\n",
      "Epoch 9/100\n",
      "126/126 [==============================] - 0s 162us/step - loss: 680.0096 - val_loss: 678.4404\n",
      "Epoch 10/100\n",
      "126/126 [==============================] - 0s 167us/step - loss: 678.9676 - val_loss: 680.3895\n",
      "Epoch 11/100\n",
      "126/126 [==============================] - 0s 169us/step - loss: 678.5370 - val_loss: 678.3179\n",
      "Epoch 12/100\n",
      "126/126 [==============================] - 0s 169us/step - loss: 678.0563 - val_loss: 677.5244\n",
      "Epoch 13/100\n",
      "126/126 [==============================] - 0s 169us/step - loss: 677.6486 - val_loss: 677.9427\n",
      "Epoch 14/100\n",
      "126/126 [==============================] - 0s 165us/step - loss: 676.8585 - val_loss: 679.5534\n",
      "Epoch 15/100\n",
      "126/126 [==============================] - 0s 171us/step - loss: 678.6356 - val_loss: 679.0521\n",
      "Epoch 16/100\n",
      "126/126 [==============================] - 0s 172us/step - loss: 677.0176 - val_loss: 676.4112\n",
      "Epoch 17/100\n",
      "126/126 [==============================] - 0s 170us/step - loss: 675.2894 - val_loss: 675.9009\n",
      "Epoch 18/100\n",
      "126/126 [==============================] - 0s 171us/step - loss: 675.6259 - val_loss: 678.1593\n",
      "Epoch 19/100\n",
      "126/126 [==============================] - 0s 170us/step - loss: 676.5683 - val_loss: 677.6193\n",
      "Epoch 20/100\n",
      "126/126 [==============================] - 0s 163us/step - loss: 676.0727 - val_loss: 677.7451\n",
      "Epoch 21/100\n",
      "126/126 [==============================] - 0s 170us/step - loss: 675.9544 - val_loss: 674.7658\n",
      "Epoch 22/100\n",
      "126/126 [==============================] - 0s 157us/step - loss: 673.5771 - val_loss: 678.1721\n",
      "Epoch 23/100\n",
      "126/126 [==============================] - 0s 167us/step - loss: 676.3767 - val_loss: 674.3601\n",
      "Epoch 24/100\n",
      "126/126 [==============================] - 0s 170us/step - loss: 671.2383 - val_loss: 672.6696\n",
      "Epoch 25/100\n",
      "126/126 [==============================] - 0s 167us/step - loss: 670.2871 - val_loss: 673.6107\n",
      "Epoch 26/100\n",
      "126/126 [==============================] - 0s 170us/step - loss: 673.1905 - val_loss: 690.6003\n",
      "Epoch 27/100\n",
      "126/126 [==============================] - 0s 173us/step - loss: 681.9704 - val_loss: 675.9512\n",
      "Epoch 28/100\n",
      "126/126 [==============================] - 0s 172us/step - loss: 671.5880 - val_loss: 670.4002\n",
      "Epoch 29/100\n",
      "126/126 [==============================] - 0s 167us/step - loss: 668.1871 - val_loss: 670.6290\n",
      "Epoch 30/100\n",
      "126/126 [==============================] - 0s 170us/step - loss: 667.0565 - val_loss: 671.7195\n",
      "Epoch 31/100\n",
      "126/126 [==============================] - 0s 174us/step - loss: 667.4151 - val_loss: 671.1559\n",
      "Epoch 32/100\n",
      "126/126 [==============================] - 0s 162us/step - loss: 665.9568 - val_loss: 668.3420\n",
      "Epoch 33/100\n",
      "126/126 [==============================] - 0s 165us/step - loss: 663.7802 - val_loss: 678.9574\n",
      "Epoch 34/100\n",
      "126/126 [==============================] - 0s 169us/step - loss: 674.9272 - val_loss: 672.6691\n",
      "Epoch 35/100\n",
      "126/126 [==============================] - 0s 172us/step - loss: 668.4322 - val_loss: 670.2762\n",
      "Epoch 36/100\n",
      "126/126 [==============================] - 0s 165us/step - loss: 665.3490 - val_loss: 665.5759\n",
      "Epoch 37/100\n",
      "126/126 [==============================] - 0s 172us/step - loss: 661.2758 - val_loss: 664.8169\n",
      "Epoch 38/100\n",
      "126/126 [==============================] - 0s 165us/step - loss: 660.3481 - val_loss: 676.4417\n",
      "Epoch 39/100\n",
      "126/126 [==============================] - 0s 167us/step - loss: 669.6213 - val_loss: 668.5592\n",
      "Epoch 40/100\n",
      "126/126 [==============================] - 0s 165us/step - loss: 664.2198 - val_loss: 663.9608\n",
      "Epoch 41/100\n",
      "126/126 [==============================] - 0s 176us/step - loss: 657.1060 - val_loss: 665.3521\n",
      "Epoch 42/100\n",
      "126/126 [==============================] - 0s 161us/step - loss: 658.9699 - val_loss: 661.8118\n",
      "Epoch 43/100\n",
      "126/126 [==============================] - 0s 182us/step - loss: 656.0637 - val_loss: 660.0998\n",
      "Epoch 44/100\n",
      "126/126 [==============================] - 0s 162us/step - loss: 653.0047 - val_loss: 662.3730\n",
      "Epoch 45/100\n",
      "126/126 [==============================] - 0s 166us/step - loss: 658.5770 - val_loss: 659.3909\n",
      "Epoch 46/100\n",
      "126/126 [==============================] - 0s 160us/step - loss: 652.3332 - val_loss: 664.2447\n",
      "Epoch 47/100\n",
      "126/126 [==============================] - 0s 166us/step - loss: 656.7992 - val_loss: 658.6171\n",
      "Epoch 48/100\n",
      "126/126 [==============================] - 0s 170us/step - loss: 650.8134 - val_loss: 658.6614\n",
      "Epoch 49/100\n",
      "126/126 [==============================] - 0s 167us/step - loss: 650.1518 - val_loss: 661.4836\n",
      "Epoch 50/100\n",
      "126/126 [==============================] - 0s 164us/step - loss: 651.3287 - val_loss: 660.9064\n",
      "Epoch 51/100\n",
      "126/126 [==============================] - 0s 164us/step - loss: 651.4127 - val_loss: 658.9790\n",
      "Epoch 52/100\n",
      "126/126 [==============================] - 0s 170us/step - loss: 651.5632 - val_loss: 662.0240\n",
      "Epoch 53/100\n",
      "126/126 [==============================] - 0s 166us/step - loss: 653.9546 - val_loss: 654.3641\n",
      "Epoch 54/100\n",
      "126/126 [==============================] - 0s 168us/step - loss: 644.9111 - val_loss: 653.1486\n",
      "Epoch 55/100\n",
      "126/126 [==============================] - 0s 170us/step - loss: 643.4590 - val_loss: 653.3009\n",
      "Epoch 56/100\n",
      "126/126 [==============================] - 0s 164us/step - loss: 643.2801 - val_loss: 664.6587\n",
      "Epoch 57/100\n",
      "126/126 [==============================] - 0s 155us/step - loss: 654.3448 - val_loss: 655.6300\n",
      "Epoch 58/100\n",
      "126/126 [==============================] - 0s 171us/step - loss: 646.7523 - val_loss: 657.3070\n",
      "Epoch 59/100\n",
      "126/126 [==============================] - 0s 163us/step - loss: 645.9746 - val_loss: 653.5555\n",
      "Epoch 60/100\n",
      "126/126 [==============================] - 0s 168us/step - loss: 641.8752 - val_loss: 652.3242\n",
      "Epoch 61/100\n",
      "126/126 [==============================] - 0s 169us/step - loss: 641.5669 - val_loss: 654.6810\n",
      "Epoch 62/100\n",
      "126/126 [==============================] - 0s 167us/step - loss: 644.8199 - val_loss: 662.8860\n",
      "Epoch 63/100\n",
      "126/126 [==============================] - 0s 157us/step - loss: 652.1567 - val_loss: 652.4411\n",
      "Epoch 64/100\n",
      "126/126 [==============================] - 0s 181us/step - loss: 642.2018 - val_loss: 653.1685\n",
      "Epoch 65/100\n",
      "126/126 [==============================] - 0s 171us/step - loss: 641.1365 - val_loss: 649.8145\n",
      "Epoch 66/100\n",
      "126/126 [==============================] - 0s 165us/step - loss: 638.7066 - val_loss: 650.8491\n",
      "Epoch 67/100\n",
      "126/126 [==============================] - 0s 170us/step - loss: 639.7713 - val_loss: 654.8352\n",
      "Epoch 68/100\n",
      "126/126 [==============================] - 0s 169us/step - loss: 641.4379 - val_loss: 651.2617\n",
      "Epoch 69/100\n",
      "126/126 [==============================] - 0s 169us/step - loss: 638.0343 - val_loss: 646.9819\n",
      "Epoch 70/100\n",
      "126/126 [==============================] - 0s 167us/step - loss: 634.3612 - val_loss: 648.0434\n",
      "Epoch 71/100\n",
      "126/126 [==============================] - 0s 156us/step - loss: 635.7462 - val_loss: 657.1498\n",
      "Epoch 72/100\n",
      "126/126 [==============================] - 0s 170us/step - loss: 646.0893 - val_loss: 646.9910\n",
      "Epoch 73/100\n",
      "126/126 [==============================] - 0s 167us/step - loss: 635.0966 - val_loss: 647.2834\n",
      "Epoch 74/100\n",
      "126/126 [==============================] - 0s 173us/step - loss: 634.2391 - val_loss: 645.3624\n",
      "Epoch 75/100\n",
      "126/126 [==============================] - 0s 166us/step - loss: 632.8376 - val_loss: 643.6764\n",
      "Epoch 76/100\n",
      "126/126 [==============================] - 0s 165us/step - loss: 632.5828 - val_loss: 645.4132\n",
      "Epoch 77/100\n",
      "126/126 [==============================] - 0s 169us/step - loss: 636.0447 - val_loss: 646.9575\n",
      "Epoch 78/100\n",
      "126/126 [==============================] - 0s 175us/step - loss: 635.8427 - val_loss: 649.0911\n",
      "Epoch 79/100\n",
      "126/126 [==============================] - 0s 177us/step - loss: 636.1905 - val_loss: 645.5045\n",
      "Epoch 80/100\n",
      "126/126 [==============================] - 0s 167us/step - loss: 633.5524 - val_loss: 646.1472\n",
      "Epoch 81/100\n",
      "126/126 [==============================] - 0s 162us/step - loss: 633.2619 - val_loss: 641.1083\n",
      "Epoch 82/100\n",
      "126/126 [==============================] - 0s 155us/step - loss: 628.8184 - val_loss: 639.9432\n",
      "Epoch 83/100\n",
      "126/126 [==============================] - 0s 160us/step - loss: 627.2491 - val_loss: 641.9965\n",
      "Epoch 84/100\n",
      "126/126 [==============================] - 0s 155us/step - loss: 629.1543 - val_loss: 645.3856\n",
      "Epoch 85/100\n",
      "126/126 [==============================] - 0s 169us/step - loss: 633.2771 - val_loss: 645.6555\n",
      "Epoch 86/100\n",
      "126/126 [==============================] - 0s 170us/step - loss: 633.6394 - val_loss: 649.9510\n",
      "Epoch 87/100\n",
      "126/126 [==============================] - 0s 168us/step - loss: 637.6985 - val_loss: 641.0947\n",
      "Epoch 88/100\n",
      "126/126 [==============================] - 0s 158us/step - loss: 628.9252 - val_loss: 639.0025\n",
      "Epoch 89/100\n",
      "126/126 [==============================] - 0s 169us/step - loss: 626.3395 - val_loss: 640.3064\n",
      "Epoch 90/100\n",
      "126/126 [==============================] - 0s 198us/step - loss: 626.1801 - val_loss: 636.5402\n",
      "Epoch 91/100\n",
      "126/126 [==============================] - 0s 166us/step - loss: 625.1885 - val_loss: 638.8782\n",
      "Epoch 92/100\n",
      "126/126 [==============================] - 0s 183us/step - loss: 625.6521 - val_loss: 640.7115\n",
      "Epoch 93/100\n",
      "126/126 [==============================] - 0s 209us/step - loss: 630.9029 - val_loss: 648.0138\n",
      "Epoch 94/100\n",
      "126/126 [==============================] - 0s 182us/step - loss: 633.4363 - val_loss: 639.4229\n",
      "Epoch 95/100\n",
      "126/126 [==============================] - 0s 174us/step - loss: 627.8513 - val_loss: 644.0127\n",
      "Epoch 96/100\n",
      "126/126 [==============================] - 0s 164us/step - loss: 629.9080 - val_loss: 635.5068\n",
      "Epoch 97/100\n",
      "126/126 [==============================] - 0s 176us/step - loss: 623.3748 - val_loss: 636.3172\n",
      "Epoch 98/100\n",
      "126/126 [==============================] - 0s 165us/step - loss: 625.0948 - val_loss: 642.5812\n",
      "Epoch 99/100\n",
      "126/126 [==============================] - 0s 175us/step - loss: 630.0251 - val_loss: 642.2348\n",
      "Epoch 100/100\n",
      "126/126 [==============================] - 0s 167us/step - loss: 629.7958 - val_loss: 638.9871\n"
     ]
    }
   ],
   "source": [
    "vae.fit(x_train,\n",
    "        x_train,\n",
    "        shuffle=True,\n",
    "        epochs=epochs,\n",
    "        batch_size=batch_size,\n",
    "        validation_data=(x_test, x_test))\n",
    "\n",
    "encoder = Model(x, z_mu)"
   ]
  },
  {
   "cell_type": "code",
   "execution_count": 290,
   "metadata": {},
   "outputs": [
    {
     "data": {
      "text/plain": [
       "<matplotlib.colorbar.Colorbar at 0x7f486c1e8f60>"
      ]
     },
     "execution_count": 290,
     "metadata": {},
     "output_type": "execute_result"
    },
    {
     "data": {
      "image/png": "[encoded data removed]",
      "text/plain": [
       "<Figure size 432x432 with 2 Axes>"
      ]
     },
     "metadata": {},
     "output_type": "display_data"
    }
   ],
   "source": [
    "# display a 2D plot of the digit classes in the latent space\n",
    "z_test = encoder.predict(x_test, batch_size=batch_size)\n",
    "plt.figure(figsize=(6, 6))\n",
    "plt.scatter(z_test[:, 0], z_test[:, 1], c=y_test,\n",
    "            alpha=.4, s=13**2, cmap='viridis')\n",
    "plt.colorbar()\n"
   ]
  },
  {
   "cell_type": "code",
   "execution_count": 301,
   "metadata": {},
   "outputs": [],
   "source": [
    "val=[-1,3]"
   ]
  },
  {
   "cell_type": "code",
   "execution_count": 302,
   "metadata": {},
   "outputs": [
    {
     "data": {
      "text/plain": [
       "'CGGTTATCTTGTGTGCCCTGTGATCGTTTTGTCTGTGTTGAATATGTCGTGCAGTGGCTCGCGTTGATGGACTTTAATGCGAATGTTTGTCCTGTGTTGATCTCGCGACTCTGGAGTGGTGTTGCTGATTTGGACTCGGGTTGTGGCGTGTGCGGGGGGTGTTGTGTTCGCCTAATTTTTTTTGTCTTGCGGTGGCTAGAAGGTGATATATGGGTGGGAGTGCGTCTTTATTATGAGTCTTAATTTTTGTGTGCGGTGAAAGAATTTAGTTTAATGGTTTGTCAAATATTTTGTATATTATGAAAGTCCTTGGCTTTTGAATCTGTTATGTGTTAATTTTTGGTGTTTTCCGTGGGCTTTTTGTGAGATGTTTTGTCTGTATTCTGTGGGTTGATGAACTACATGGTGGTCTTGAGAGAGTATGAAAGTTGTTGTTTGGTGTTTAGATGTGTGTTGGTAGTGTCTTTTTTGTTGATTTAATTTTTGAGGTACTGGTGAGGTTGGTTTGGTTATTGAATATTAAGGAGTTACTAATCAATTGTGAGGTAAAATGTGTGGAGAGTTAATCTTGTGTCATTTTAAATGTCAGGGTTTATTATCGTTTTTGGGATATTGTTGTTTTTGAAATGGTAGACGTGTGGATTTCGGGTTGTAGTTTTTATGGTTGGGGTTTAGTTTTTGATGATATTGGTGTGTGCGGATAGTTAATTGGCATTTTTTGAGGATGTGGTTATTTAGGCTCGGCAGTAGATGTTAATTGGATGTTTTTTTCTGTTTTGTTGGATGTTGGAGCGTTTGAATTGTTTTTTGTGTGCATTTATGTGGTGGGTTGTTAATTGTTTTGTTGAGATGGTTTGGTTGGTGTGCGTTTTGGTCGTGGCGATTTGTGTGTTCGTTGGGTTTTGGTGTTTGGTTGATGTTGTTTTTCCCTTGTGTATGATTTTGGTGTTTTTTGATTTTTCGGTGGGATGGGTGTTGGATAATTGTATATTTTTGGTAT'"
      ]
     },
     "execution_count": 302,
     "metadata": {},
     "output_type": "execute_result"
    }
   ],
   "source": [
    "''.join(np.round(decoder.predict(np.array(val).reshape(1,2))*4)[0].astype(int).astype(str)).replace('1','A').replace('2','T').replace('3','G').replace('4','C')"
   ]
  },
  {
   "cell_type": "code",
   "execution_count": 262,
   "metadata": {},
   "outputs": [],
   "source": [
    "val=[-2,1]"
   ]
  },
  {
   "cell_type": "code",
   "execution_count": 263,
   "metadata": {},
   "outputs": [
    {
     "data": {
      "text/plain": [
       "'GGGTTGTGTTTGTGCCCGTGTGGGTTTTTACGCGTTTAACTTGTTGTGCCTCAGTCGTTAATTTGATTTTTTGTATGGGTGGGGGGTGTTGTGGCGTTGTGTGAGGTTTAATCTTTTTAAATAGGTGTGTTTAGGGCTGTTCGGATTAGAGTTGATTGATTATATCAGAGTGGATGTGCGTTGAGGGTGGTGGTGGGATTGGGGGTATATGGTTTGGGTTGGTTATGGTGTTTTGTGAGATTTCTTTGGGAGTTGCACGTTCTTGCTTGCGGTGATAGATGATGATATGTAGATATTTGTGTTTATTGCACTGTTTTATTGGGGTAATTTGTTGATGGAGATATATAGGTGAATCAGTCGTGTGTATGTATATTCAGTTTACGCTTTCGTGAAATGAAGATGATTATTTATTGAGGTGAATGAGGATCTTCGACATCGATCTCGTGTGACTGGATCTTATTATGGGTTATGTTTTTTGAGCAGTTTTGCGAGTCTCTATTGGTTGCTTTTTGAGTTAGAGCTAGTATTCTGGTTGGAATGCTATTACAAGATATTGGAATTACTTTACAATTTTGAGCTATTTACACAGCAGGGTGATTGGGGGGTGGTGGTGTTCATTGAAATTGTAGGGTTATGTCATATTCTGCATTTGGAGTTGGGAGTGGATGGCTTTTGTGCTTGAACATTGATTTGTGGTTATAATGTTATAGATTTGATGGGGTTGTTCCGTGTGGTATTTCGCTAGTGGAGAGCTTTTTGTGAAGGTGGGTGCGCAGATGATTTAGAGTGGTTTTGGATGTCGTTGTTTTTTCATCTAGGAGGGATTGATTAGGTTTTGGATTGGTATATTTTTTTTTGTGGAGTATTTGGTTGGTTTGATGGATTAGAGTGTGTTGGTTTTGCTCGAGCGGTATTGTGTTAAGGATTGTTTTTGGATATTGGTGGTTGTTGTATTTGGGTTGTGGATGGAATATGAGTGATATGTGGTATCGGTCGTTTG'"
      ]
     },
     "execution_count": 263,
     "metadata": {},
     "output_type": "execute_result"
    }
   ],
   "source": [
    "''.join(np.round(decoder.predict(np.array(val).reshape(1,2))*4)[0].astype(int).astype(str)).replace('1','A').replace('2','T').replace('3','G').replace('4','C')"
   ]
  },
  {
   "cell_type": "markdown",
   "metadata": {},
   "source": [
    "## HW:\n",
    "---\n",
    "    1. what are the hyper parameters you can tune?\n",
    "    2. Tune the models so that the distribution is more compact.\n",
    "    3. Investigate other segments (POL, ENV, INTEGRASE, Reverse-transcriptase, and complete genome)\n",
    "    4. Blast it against the origin sequence data to investigate if we are closer to the clinical subtypes that we shpuld be closer to\n",
    "    5. How well can we actually use this to generate new samples (sequences of hiv clinical subtypes not in the dataset?)"
   ]
  },
  {
   "cell_type": "code",
   "execution_count": null,
   "metadata": {},
   "outputs": [],
   "source": []
  }
 ],
 "metadata": {
  "kernelspec": {
   "display_name": "Python 3",
   "language": "python",
   "name": "python3"
  },
  "language_info": {
   "codemirror_mode": {
    "name": "ipython",
    "version": 3
   },
   "file_extension": ".py",
   "mimetype": "text/x-python",
   "name": "python",
   "nbconvert_exporter": "python",
   "pygments_lexer": "ipython3",
   "version": "3.7.1"
  }
 },
 "nbformat": 4,
 "nbformat_minor": 2
}
