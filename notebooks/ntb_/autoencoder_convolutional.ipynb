{
 "cells": [
  {
   "cell_type": "code",
   "execution_count": 5,
   "metadata": {},
   "outputs": [],
   "source": [
    "from keras.layers import Input, Dense, Conv2D, MaxPooling2D, UpSampling2D\n",
    "from keras.models import Model\n",
    "from keras import backend as K\n",
    "\n",
    "input_img = Input(shape=(28, 28, 1))  # adapt this if using `channels_first` image data format\n",
    "\n",
    "x = Conv2D(16, (3, 3), activation='relu', padding='same')(input_img)\n",
    "x = MaxPooling2D((2, 2), padding='same')(x)\n",
    "x = Conv2D(8, (3, 3), activation='relu', padding='same')(x)\n",
    "x = MaxPooling2D((2, 2), padding='same')(x)\n",
    "x = Conv2D(8, (3, 3), activation='relu', padding='same')(x)\n",
    "encoded = MaxPooling2D((2, 2), padding='same')(x)\n",
    "\n",
    "# at this point the representation is (4, 4, 8) i.e. 128-dimensional\n",
    "\n",
    "x = Conv2D(8, (3, 3), activation='relu', padding='same')(encoded)\n",
    "x = UpSampling2D((2, 2))(x)\n",
    "x = Conv2D(8, (3, 3), activation='relu', padding='same')(x)\n",
    "x = UpSampling2D((2, 2))(x)\n",
    "x = Conv2D(16, (3, 3), activation='relu')(x)\n",
    "x = UpSampling2D((2, 2))(x)\n",
    "decoded = Conv2D(1, (3, 3), activation='sigmoid', padding='same')(x)\n",
    "\n",
    "autoencoder = Model(input_img, decoded)\n",
    "autoencoder.compile(optimizer='adadelta', loss='binary_crossentropy')\n"
   ]
  },
  {
   "cell_type": "code",
   "execution_count": 6,
   "metadata": {},
   "outputs": [],
   "source": [
    "from keras.datasets import mnist\n",
    "import numpy as np\n",
    "\n",
    "(x_train, _), (x_test, _) = mnist.load_data()\n",
    "\n",
    "x_train = x_train.astype('float32') / 255.\n",
    "x_test = x_test.astype('float32') / 255.\n",
    "x_train = np.reshape(x_train, (len(x_train), 28, 28, 1))  # adapt this if using `channels_first` image data format\n",
    "x_test = np.reshape(x_test, (len(x_test), 28, 28, 1))  # adapt this if using `channels_first` image data"
   ]
  },
  {
   "cell_type": "code",
   "execution_count": 4,
   "metadata": {},
   "outputs": [
    {
     "name": "stdout",
     "output_type": "stream",
     "text": [
      "TensorBoard 1.12.2 at http://katana:6006 (Press CTRL+C to quit)\n",
      "^C\n"
     ]
    }
   ],
   "source": [
    "!tensorboard --logdir=/tmp/autoencoder\n"
   ]
  },
  {
   "cell_type": "code",
   "execution_count": 7,
   "metadata": {},
   "outputs": [
    {
     "name": "stdout",
     "output_type": "stream",
     "text": [
      "Train on 60000 samples, validate on 10000 samples\n",
      "Epoch 1/50\n",
      "60000/60000 [==============================] - 48s 797us/step - loss: 0.2058 - val_loss: 0.1613\n",
      "Epoch 2/50\n",
      "60000/60000 [==============================] - 50s 837us/step - loss: 0.1508 - val_loss: 0.1397\n",
      "Epoch 3/50\n",
      "60000/60000 [==============================] - 55s 912us/step - loss: 0.1368 - val_loss: 0.1325\n",
      "Epoch 4/50\n",
      "60000/60000 [==============================] - 57s 946us/step - loss: 0.1296 - val_loss: 0.1291\n",
      "Epoch 5/50\n",
      "60000/60000 [==============================] - 62s 1ms/step - loss: 0.1251 - val_loss: 0.1222\n",
      "Epoch 6/50\n",
      "60000/60000 [==============================] - 60s 1ms/step - loss: 0.1217 - val_loss: 0.1172\n",
      "Epoch 7/50\n",
      "60000/60000 [==============================] - 54s 896us/step - loss: 0.1189 - val_loss: 0.1176\n",
      "Epoch 8/50\n",
      "60000/60000 [==============================] - 49s 819us/step - loss: 0.1172 - val_loss: 0.1122\n",
      "Epoch 9/50\n",
      "60000/60000 [==============================] - 54s 894us/step - loss: 0.1159 - val_loss: 0.1198\n",
      "Epoch 10/50\n",
      "60000/60000 [==============================] - 53s 885us/step - loss: 0.1148 - val_loss: 0.1136\n",
      "Epoch 11/50\n",
      "60000/60000 [==============================] - 56s 927us/step - loss: 0.1140 - val_loss: 0.1167\n",
      "Epoch 12/50\n",
      "60000/60000 [==============================] - 61s 1ms/step - loss: 0.1129 - val_loss: 0.1113\n",
      "Epoch 13/50\n",
      "60000/60000 [==============================] - 70s 1ms/step - loss: 0.1125 - val_loss: 0.1080\n",
      "Epoch 14/50\n",
      "60000/60000 [==============================] - 56s 940us/step - loss: 0.1116 - val_loss: 0.1131\n",
      "Epoch 15/50\n",
      "60000/60000 [==============================] - 54s 896us/step - loss: 0.1109 - val_loss: 0.1067\n",
      "Epoch 16/50\n",
      "60000/60000 [==============================] - 50s 841us/step - loss: 0.1101 - val_loss: 0.1114\n",
      "Epoch 17/50\n",
      "60000/60000 [==============================] - 52s 863us/step - loss: 0.1098 - val_loss: 0.1083\n",
      "Epoch 18/50\n",
      "60000/60000 [==============================] - 68s 1ms/step - loss: 0.1092 - val_loss: 0.1075\n",
      "Epoch 19/50\n",
      "60000/60000 [==============================] - 65s 1ms/step - loss: 0.1086 - val_loss: 0.1088\n",
      "Epoch 20/50\n",
      "60000/60000 [==============================] - 60s 996us/step - loss: 0.1079 - val_loss: 0.1055\n",
      "Epoch 21/50\n",
      "60000/60000 [==============================] - 63s 1ms/step - loss: 0.1077 - val_loss: 0.1086\n",
      "Epoch 22/50\n",
      "60000/60000 [==============================] - 130s 2ms/step - loss: 0.1072 - val_loss: 0.1065\n",
      "Epoch 23/50\n",
      "60000/60000 [==============================] - 80s 1ms/step - loss: 0.1066 - val_loss: 0.1049\n",
      "Epoch 24/50\n",
      "60000/60000 [==============================] - 47s 784us/step - loss: 0.1062 - val_loss: 0.1044\n",
      "Epoch 25/50\n",
      "60000/60000 [==============================] - 47s 789us/step - loss: 0.1061 - val_loss: 0.1027\n",
      "Epoch 26/50\n",
      "60000/60000 [==============================] - 47s 784us/step - loss: 0.1055 - val_loss: 0.1022\n",
      "Epoch 27/50\n",
      "60000/60000 [==============================] - 47s 779us/step - loss: 0.1053 - val_loss: 0.1067\n",
      "Epoch 28/50\n",
      "60000/60000 [==============================] - 47s 782us/step - loss: 0.1049 - val_loss: 0.1032\n",
      "Epoch 29/50\n",
      "60000/60000 [==============================] - 47s 781us/step - loss: 0.1045 - val_loss: 0.1027\n",
      "Epoch 30/50\n",
      "60000/60000 [==============================] - 47s 787us/step - loss: 0.1044 - val_loss: 0.1003\n",
      "Epoch 31/50\n",
      "60000/60000 [==============================] - 46s 773us/step - loss: 0.1038 - val_loss: 0.1031\n",
      "Epoch 32/50\n",
      "60000/60000 [==============================] - 47s 783us/step - loss: 0.1038 - val_loss: 0.1019\n",
      "Epoch 33/50\n",
      "60000/60000 [==============================] - 47s 777us/step - loss: 0.1036 - val_loss: 0.1000\n",
      "Epoch 34/50\n",
      "60000/60000 [==============================] - 47s 777us/step - loss: 0.1032 - val_loss: 0.1026\n",
      "Epoch 35/50\n",
      "60000/60000 [==============================] - 47s 776us/step - loss: 0.1029 - val_loss: 0.0999\n",
      "Epoch 36/50\n",
      "60000/60000 [==============================] - 47s 776us/step - loss: 0.1029 - val_loss: 0.1000\n",
      "Epoch 37/50\n",
      "60000/60000 [==============================] - 46s 774us/step - loss: 0.1025 - val_loss: 0.1008\n",
      "Epoch 38/50\n",
      "60000/60000 [==============================] - 47s 777us/step - loss: 0.1022 - val_loss: 0.1005\n",
      "Epoch 39/50\n",
      "60000/60000 [==============================] - 46s 775us/step - loss: 0.1020 - val_loss: 0.1012\n",
      "Epoch 40/50\n",
      "60000/60000 [==============================] - 47s 775us/step - loss: 0.1018 - val_loss: 0.1006\n",
      "Epoch 41/50\n",
      "60000/60000 [==============================] - 47s 780us/step - loss: 0.1016 - val_loss: 0.0987\n",
      "Epoch 42/50\n",
      "60000/60000 [==============================] - 50s 835us/step - loss: 0.1014 - val_loss: 0.0994\n",
      "Epoch 43/50\n",
      "60000/60000 [==============================] - 42s 702us/step - loss: 0.1013 - val_loss: 0.0986\n",
      "Epoch 44/50\n",
      "60000/60000 [==============================] - 41s 691us/step - loss: 0.1012 - val_loss: 0.0995\n",
      "Epoch 45/50\n",
      "60000/60000 [==============================] - 42s 692us/step - loss: 0.1009 - val_loss: 0.1019\n",
      "Epoch 46/50\n",
      "60000/60000 [==============================] - 42s 692us/step - loss: 0.1008 - val_loss: 0.1024\n",
      "Epoch 47/50\n",
      "60000/60000 [==============================] - 42s 694us/step - loss: 0.1005 - val_loss: 0.1001\n",
      "Epoch 48/50\n",
      "60000/60000 [==============================] - 45s 757us/step - loss: 0.1006 - val_loss: 0.0974\n",
      "Epoch 49/50\n",
      "60000/60000 [==============================] - 48s 805us/step - loss: 0.1002 - val_loss: 0.0983\n",
      "Epoch 50/50\n",
      "60000/60000 [==============================] - 45s 752us/step - loss: 0.1002 - val_loss: 0.0999\n"
     ]
    },
    {
     "data": {
      "text/plain": [
       "<keras.callbacks.History at 0x7f399d7ca450>"
      ]
     },
     "execution_count": 7,
     "metadata": {},
     "output_type": "execute_result"
    }
   ],
   "source": [
    "from keras.callbacks import TensorBoard\n",
    "\n",
    "autoencoder.fit(x_train, x_train,\n",
    "                epochs=50,\n",
    "                batch_size=128,\n",
    "                shuffle=True,\n",
    "                validation_data=(x_test, x_test),\n",
    "                callbacks=[TensorBoard(log_dir='/tmp/autoencoder')])"
   ]
  },
  {
   "cell_type": "code",
   "execution_count": 8,
   "metadata": {},
   "outputs": [
    {
     "name": "stdout",
     "output_type": "stream",
     "text": [
      "/home/ishanu/ZED/Research/CCTS40500_/notebooks\r\n"
     ]
    }
   ],
   "source": [
    "!pwd"
   ]
  },
  {
   "cell_type": "code",
   "execution_count": null,
   "metadata": {},
   "outputs": [],
   "source": []
  }
 ],
 "metadata": {
  "kernelspec": {
   "display_name": "Python 2",
   "language": "python",
   "name": "python2"
  },
  "language_info": {
   "codemirror_mode": {
    "name": "ipython",
    "version": 2
   },
   "file_extension": ".py",
   "mimetype": "text/x-python",
   "name": "python",
   "nbconvert_exporter": "python",
   "pygments_lexer": "ipython2",
   "version": "2.7.13"
  }
 },
 "nbformat": 4,
 "nbformat_minor": 2
}
