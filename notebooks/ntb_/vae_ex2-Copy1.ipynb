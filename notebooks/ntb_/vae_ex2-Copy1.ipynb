{
 "cells": [
  {
   "cell_type": "code",
   "execution_count": 176,
   "metadata": {},
   "outputs": [],
   "source": [
    "import numpy as np\n",
    "import matplotlib.pyplot as plt\n",
    "from scipy.stats import norm\n",
    "\n",
    "from keras import backend as K\n",
    "\n",
    "from keras.layers import Input, Dense, Lambda, Layer, Add, Multiply\n",
    "from keras.models import Model, Sequential\n",
    "from keras.datasets import mnist\n",
    "\n",
    "\n",
    "original_dim = 1000\n",
    "intermediate_dim = 512\n",
    "latent_dim = 2\n",
    "batch_size = 100\n",
    "epochs = 100\n",
    "epsilon_std = 1.0\n"
   ]
  },
  {
   "cell_type": "code",
   "execution_count": 177,
   "metadata": {},
   "outputs": [],
   "source": [
    "\n",
    "def nll(y_true, y_pred):\n",
    "    \"\"\" Negative log likelihood (Bernoulli). \"\"\"\n",
    "\n",
    "    # keras.losses.binary_crossentropy gives the mean\n",
    "    # over the last axis. we require the sum\n",
    "    return K.sum(K.binary_crossentropy(y_true, y_pred), axis=-1)\n",
    "\n",
    "\n",
    "class KLDivergenceLayer(Layer):\n",
    "\n",
    "    \"\"\" Identity transform layer that adds KL divergence\n",
    "    to the final model loss.\n",
    "    \"\"\"\n",
    "\n",
    "    def __init__(self, *args, **kwargs):\n",
    "        self.is_placeholder = True\n",
    "        super(KLDivergenceLayer, self).__init__(*args, **kwargs)\n",
    "\n",
    "    def call(self, inputs):\n",
    "\n",
    "        mu, log_var = inputs\n",
    "\n",
    "        kl_batch = - .5 * K.sum(1 + log_var -\n",
    "                                K.square(mu) -\n",
    "                                K.exp(log_var), axis=-1)\n",
    "\n",
    "        self.add_loss(K.mean(kl_batch), inputs=inputs)\n",
    "\n",
    "        return inputs\n",
    "\n"
   ]
  },
  {
   "cell_type": "code",
   "execution_count": 178,
   "metadata": {},
   "outputs": [],
   "source": [
    "decoder = Sequential([\n",
    "    Dense(intermediate_dim, input_dim=latent_dim, activation='relu'),\n",
    "    Dense(original_dim, activation='sigmoid')\n",
    "])\n",
    "\n",
    "x = Input(shape=(original_dim,))\n",
    "h = Dense(intermediate_dim, activation='relu')(x)\n",
    "\n",
    "z_mu = Dense(latent_dim)(h)\n",
    "z_log_var = Dense(latent_dim)(h)\n",
    "\n",
    "z_mu, z_log_var = KLDivergenceLayer()([z_mu, z_log_var])\n",
    "z_sigma = Lambda(lambda t: K.exp(.5*t))(z_log_var)\n",
    "\n",
    "eps = Input(tensor=K.random_normal(stddev=epsilon_std,\n",
    "                                   shape=(K.shape(x)[0], latent_dim)))\n",
    "z_eps = Multiply()([z_sigma, eps])\n",
    "z = Add()([z_mu, z_eps])\n",
    "\n",
    "x_pred = decoder(z)\n",
    "\n",
    "vae = Model(inputs=[x, eps], outputs=x_pred)\n",
    "vae.compile(optimizer='rmsprop', loss=nll)\n"
   ]
  },
  {
   "cell_type": "code",
   "execution_count": 179,
   "metadata": {},
   "outputs": [],
   "source": [
    "import pandas as pd\n",
    "import glob\n",
    "from sklearn.model_selection import train_test_split\n"
   ]
  },
  {
   "cell_type": "code",
   "execution_count": 180,
   "metadata": {},
   "outputs": [],
   "source": [
    "def splitw(x):\n",
    "    return np.array([y for y in x])\n",
    "#.replace('T','1'),replace('G','2').replace('C','3')"
   ]
  },
  {
   "cell_type": "code",
   "execution_count": 181,
   "metadata": {},
   "outputs": [
    {
     "name": "stdout",
     "output_type": "stream",
     "text": [
      "     61      60  550167 ../hwdata/hiv/hiv-db-LTNP.seq\r\n",
      "     38      37  341344 ../hwdata/hiv/hiv-db-SP.seq\r\n",
      "     24      23  205225 ../hwdata/hiv/hiv-db-zP.seq\r\n",
      "     39      38  344731 ../hwdata/hiv/hiv-db-zRP.seq\r\n",
      "    162     158 1441467 total\r\n"
     ]
    }
   ],
   "source": [
    "FILES=glob.glob('../hwdata/hiv/*seq')\n",
    "! wc ../hwdata/hiv/*seq"
   ]
  },
  {
   "cell_type": "code",
   "execution_count": 194,
   "metadata": {},
   "outputs": [
    {
     "data": {
      "text/plain": [
       "(158,)"
      ]
     },
     "execution_count": 194,
     "metadata": {},
     "output_type": "execute_result"
    }
   ],
   "source": [
    "data=pd.concat([pd.read_csv(i,header=None) for i in FILES])\n",
    "\n",
    "data1=np.array([x for x in np.squeeze(data)])\n",
    "\n",
    "data2=np.array([splitw(x.replace('A','1').replace('T','2').replace('G','3').replace('C','4')).astype(int) for x in data1])\n",
    "\n",
    "data2.shape"
   ]
  },
  {
   "cell_type": "code",
   "execution_count": 195,
   "metadata": {},
   "outputs": [],
   "source": [
    "X=[]\n",
    "dim1=158\n",
    "for i in data2:\n",
    "    X=np.append(X,i[:original_dim])\n",
    "X=X.reshape(dim1,int(original_dim))\n",
    "X=X/4."
   ]
  },
  {
   "cell_type": "code",
   "execution_count": 196,
   "metadata": {},
   "outputs": [
    {
     "data": {
      "text/plain": [
       "array([0., 0., 0., 0., 0., 0., 0., 0., 0., 0., 0., 0., 0., 0., 0., 0., 0.,\n",
       "       0., 0., 0., 0., 0., 0., 0., 0., 0., 0., 0., 0., 0., 0., 0., 0., 0.,\n",
       "       0., 0., 0., 0., 0., 0., 0., 0., 0., 0., 0., 0., 0., 0., 0., 0., 0.,\n",
       "       0., 0., 0., 0., 0., 0., 0., 0., 0., 1., 1., 1., 1., 1., 1., 1., 1.,\n",
       "       1., 1., 1., 1., 1., 1., 1., 1., 1., 1., 1., 1., 1., 1., 1., 1., 1.,\n",
       "       1., 1., 1., 1., 1., 1., 1., 1., 1., 1., 1., 1., 2., 2., 2., 2., 2.,\n",
       "       2., 2., 2., 2., 2., 2., 2., 2., 2., 2., 2., 2., 2., 2., 2., 2., 2.,\n",
       "       2., 3., 3., 3., 3., 3., 3., 3., 3., 3., 3., 3., 3., 3., 3., 3., 3.,\n",
       "       3., 3., 3., 3., 3., 3., 3., 3., 3., 3., 3., 3., 3., 3., 3., 3., 3.,\n",
       "       3., 3., 3., 3., 3.])"
      ]
     },
     "execution_count": 196,
     "metadata": {},
     "output_type": "execute_result"
    }
   ],
   "source": [
    "y=np.array([0*np.ones(60),1*np.ones(37),2*np.ones(23),3*np.ones(38)])\n",
    "y=np.squeeze(y)\n",
    "YY=[]\n",
    "for i in y:\n",
    "    YY=np.append(YY,i)\n",
    "YY"
   ]
  },
  {
   "cell_type": "code",
   "execution_count": 197,
   "metadata": {},
   "outputs": [],
   "source": [
    "x_train, x_test, y_train,  y_test=train_test_split(X,YY,test_size=.2)"
   ]
  },
  {
   "cell_type": "code",
   "execution_count": 198,
   "metadata": {},
   "outputs": [
    {
     "data": {
      "text/plain": [
       "(32, 1000)"
      ]
     },
     "execution_count": 198,
     "metadata": {},
     "output_type": "execute_result"
    }
   ],
   "source": [
    "x_test.shape"
   ]
  },
  {
   "cell_type": "code",
   "execution_count": 199,
   "metadata": {},
   "outputs": [
    {
     "name": "stdout",
     "output_type": "stream",
     "text": [
      "Train on 126 samples, validate on 32 samples\n",
      "Epoch 1/100\n",
      "126/126 [==============================] - 0s 152us/step - loss: 812.0682 - val_loss: 753.9107\n",
      "Epoch 2/100\n",
      "126/126 [==============================] - 0s 152us/step - loss: 750.8547 - val_loss: 692.5673\n",
      "Epoch 3/100\n",
      "126/126 [==============================] - 0s 165us/step - loss: 689.6678 - val_loss: 688.6408\n",
      "Epoch 4/100\n",
      "126/126 [==============================] - 0s 147us/step - loss: 682.9740 - val_loss: 680.6031\n",
      "Epoch 5/100\n",
      "126/126 [==============================] - 0s 153us/step - loss: 675.7656 - val_loss: 675.7714\n",
      "Epoch 6/100\n",
      "126/126 [==============================] - 0s 154us/step - loss: 670.7217 - val_loss: 671.7974\n",
      "Epoch 7/100\n",
      "126/126 [==============================] - 0s 155us/step - loss: 665.7959 - val_loss: 670.2853\n",
      "Epoch 8/100\n",
      "126/126 [==============================] - 0s 162us/step - loss: 664.0001 - val_loss: 664.2859\n",
      "Epoch 9/100\n",
      "126/126 [==============================] - 0s 153us/step - loss: 656.7532 - val_loss: 661.2697\n",
      "Epoch 10/100\n",
      "126/126 [==============================] - 0s 145us/step - loss: 653.5324 - val_loss: 669.2004\n",
      "Epoch 11/100\n",
      "126/126 [==============================] - 0s 150us/step - loss: 658.4969 - val_loss: 666.7748\n",
      "Epoch 12/100\n",
      "126/126 [==============================] - 0s 144us/step - loss: 655.7767 - val_loss: 653.9125\n",
      "Epoch 13/100\n",
      "126/126 [==============================] - 0s 149us/step - loss: 643.9818 - val_loss: 652.6966\n",
      "Epoch 14/100\n",
      "126/126 [==============================] - 0s 178us/step - loss: 642.9736 - val_loss: 650.5864\n",
      "Epoch 15/100\n",
      "126/126 [==============================] - 0s 171us/step - loss: 638.5657 - val_loss: 648.0721\n",
      "Epoch 16/100\n",
      "126/126 [==============================] - 0s 153us/step - loss: 637.1683 - val_loss: 660.5804\n",
      "Epoch 17/100\n",
      "126/126 [==============================] - 0s 161us/step - loss: 652.1390 - val_loss: 655.2971\n",
      "Epoch 18/100\n",
      "126/126 [==============================] - 0s 161us/step - loss: 643.4886 - val_loss: 645.7144\n",
      "Epoch 19/100\n",
      "126/126 [==============================] - 0s 169us/step - loss: 634.4668 - val_loss: 645.6407\n",
      "Epoch 20/100\n",
      "126/126 [==============================] - 0s 180us/step - loss: 633.0803 - val_loss: 644.3362\n",
      "Epoch 21/100\n",
      "126/126 [==============================] - 0s 171us/step - loss: 632.5899 - val_loss: 644.3248\n",
      "Epoch 22/100\n",
      "126/126 [==============================] - 0s 188us/step - loss: 633.9136 - val_loss: 655.0073\n",
      "Epoch 23/100\n",
      "126/126 [==============================] - 0s 169us/step - loss: 641.4420 - val_loss: 648.5741\n",
      "Epoch 24/100\n",
      "126/126 [==============================] - 0s 165us/step - loss: 634.8473 - val_loss: 643.9525\n",
      "Epoch 25/100\n",
      "126/126 [==============================] - 0s 161us/step - loss: 630.8699 - val_loss: 641.9652\n",
      "Epoch 26/100\n",
      "126/126 [==============================] - 0s 161us/step - loss: 629.9469 - val_loss: 643.4294\n",
      "Epoch 27/100\n",
      "126/126 [==============================] - 0s 163us/step - loss: 631.3769 - val_loss: 648.2898\n",
      "Epoch 28/100\n",
      "126/126 [==============================] - 0s 163us/step - loss: 633.7828 - val_loss: 650.4902\n",
      "Epoch 29/100\n",
      "126/126 [==============================] - 0s 167us/step - loss: 634.6037 - val_loss: 642.8022\n",
      "Epoch 30/100\n",
      "126/126 [==============================] - 0s 178us/step - loss: 629.7874 - val_loss: 641.8091\n",
      "Epoch 31/100\n",
      "126/126 [==============================] - 0s 172us/step - loss: 628.2224 - val_loss: 645.6498\n",
      "Epoch 32/100\n",
      "126/126 [==============================] - 0s 166us/step - loss: 630.8441 - val_loss: 649.3227\n",
      "Epoch 33/100\n",
      "126/126 [==============================] - 0s 171us/step - loss: 632.9052 - val_loss: 644.6553\n",
      "Epoch 34/100\n",
      "126/126 [==============================] - 0s 166us/step - loss: 629.6855 - val_loss: 643.1125\n",
      "Epoch 35/100\n",
      "126/126 [==============================] - 0s 164us/step - loss: 627.2830 - val_loss: 642.4264\n",
      "Epoch 36/100\n",
      "126/126 [==============================] - 0s 178us/step - loss: 626.9048 - val_loss: 645.0984\n",
      "Epoch 37/100\n",
      "126/126 [==============================] - 0s 169us/step - loss: 629.5722 - val_loss: 644.5612\n",
      "Epoch 38/100\n",
      "126/126 [==============================] - 0s 164us/step - loss: 630.8931 - val_loss: 648.5632\n",
      "Epoch 39/100\n",
      "126/126 [==============================] - 0s 161us/step - loss: 635.1047 - val_loss: 640.3904\n",
      "Epoch 40/100\n",
      "126/126 [==============================] - 0s 167us/step - loss: 626.3299 - val_loss: 639.3059\n",
      "Epoch 41/100\n",
      "126/126 [==============================] - 0s 186us/step - loss: 623.9060 - val_loss: 637.8975\n",
      "Epoch 42/100\n",
      "126/126 [==============================] - 0s 167us/step - loss: 623.3241 - val_loss: 638.1130\n",
      "Epoch 43/100\n",
      "126/126 [==============================] - 0s 154us/step - loss: 624.2333 - val_loss: 640.4050\n",
      "Epoch 44/100\n",
      "126/126 [==============================] - 0s 157us/step - loss: 626.5400 - val_loss: 640.0665\n",
      "Epoch 45/100\n",
      "126/126 [==============================] - 0s 166us/step - loss: 625.3052 - val_loss: 639.9692\n",
      "Epoch 46/100\n",
      "126/126 [==============================] - 0s 163us/step - loss: 623.3087 - val_loss: 639.6258\n",
      "Epoch 47/100\n",
      "126/126 [==============================] - 0s 152us/step - loss: 626.8856 - val_loss: 651.0204\n",
      "Epoch 48/100\n",
      "126/126 [==============================] - 0s 154us/step - loss: 638.5461 - val_loss: 638.6028\n",
      "Epoch 49/100\n",
      "126/126 [==============================] - 0s 160us/step - loss: 623.0831 - val_loss: 637.1106\n",
      "Epoch 50/100\n",
      "126/126 [==============================] - 0s 169us/step - loss: 622.0309 - val_loss: 636.9105\n",
      "Epoch 51/100\n",
      "126/126 [==============================] - 0s 150us/step - loss: 621.8051 - val_loss: 635.8266\n",
      "Epoch 52/100\n",
      "126/126 [==============================] - 0s 151us/step - loss: 621.0867 - val_loss: 636.6764\n",
      "Epoch 53/100\n",
      "126/126 [==============================] - 0s 157us/step - loss: 621.2688 - val_loss: 640.3677\n",
      "Epoch 54/100\n",
      "126/126 [==============================] - 0s 151us/step - loss: 624.3501 - val_loss: 642.4194\n",
      "Epoch 55/100\n",
      "126/126 [==============================] - 0s 165us/step - loss: 626.2624 - val_loss: 637.9007\n",
      "Epoch 56/100\n",
      "126/126 [==============================] - 0s 159us/step - loss: 624.2601 - val_loss: 638.1767\n",
      "Epoch 57/100\n",
      "126/126 [==============================] - 0s 165us/step - loss: 623.0918 - val_loss: 639.5983\n",
      "Epoch 58/100\n",
      "126/126 [==============================] - 0s 161us/step - loss: 624.3646 - val_loss: 640.2856\n",
      "Epoch 59/100\n",
      "126/126 [==============================] - 0s 167us/step - loss: 623.7201 - val_loss: 635.8256\n",
      "Epoch 60/100\n",
      "126/126 [==============================] - 0s 158us/step - loss: 620.0094 - val_loss: 635.3005\n",
      "Epoch 61/100\n",
      "126/126 [==============================] - 0s 155us/step - loss: 619.7436 - val_loss: 639.0626\n",
      "Epoch 62/100\n",
      "126/126 [==============================] - 0s 157us/step - loss: 624.5791 - val_loss: 643.0347\n",
      "Epoch 63/100\n",
      "126/126 [==============================] - 0s 159us/step - loss: 629.2460 - val_loss: 635.6558\n",
      "Epoch 64/100\n",
      "126/126 [==============================] - 0s 151us/step - loss: 621.7072 - val_loss: 635.2495\n",
      "Epoch 65/100\n",
      "126/126 [==============================] - 0s 151us/step - loss: 620.4232 - val_loss: 633.8022\n",
      "Epoch 66/100\n",
      "126/126 [==============================] - 0s 159us/step - loss: 618.9553 - val_loss: 633.9741\n",
      "Epoch 67/100\n",
      "126/126 [==============================] - 0s 183us/step - loss: 619.8737 - val_loss: 634.6517\n",
      "Epoch 68/100\n",
      "126/126 [==============================] - 0s 164us/step - loss: 619.6215 - val_loss: 635.4616\n",
      "Epoch 69/100\n",
      "126/126 [==============================] - 0s 150us/step - loss: 620.0383 - val_loss: 635.8337\n",
      "Epoch 70/100\n",
      "126/126 [==============================] - 0s 155us/step - loss: 621.4048 - val_loss: 642.8468\n",
      "Epoch 71/100\n",
      "126/126 [==============================] - 0s 152us/step - loss: 630.2702 - val_loss: 642.4528\n",
      "Epoch 72/100\n",
      "126/126 [==============================] - 0s 151us/step - loss: 626.5191 - val_loss: 633.3854\n",
      "Epoch 73/100\n",
      "126/126 [==============================] - 0s 152us/step - loss: 619.0940 - val_loss: 633.1648\n",
      "Epoch 74/100\n",
      "126/126 [==============================] - 0s 160us/step - loss: 618.3300 - val_loss: 632.7234\n",
      "Epoch 75/100\n",
      "126/126 [==============================] - 0s 170us/step - loss: 617.6840 - val_loss: 632.4011\n",
      "Epoch 76/100\n"
     ]
    },
    {
     "name": "stdout",
     "output_type": "stream",
     "text": [
      "126/126 [==============================] - 0s 159us/step - loss: 617.3179 - val_loss: 632.0450\n",
      "Epoch 77/100\n",
      "126/126 [==============================] - 0s 152us/step - loss: 616.9923 - val_loss: 634.0289\n",
      "Epoch 78/100\n",
      "126/126 [==============================] - 0s 160us/step - loss: 617.9302 - val_loss: 633.7877\n",
      "Epoch 79/100\n",
      "126/126 [==============================] - 0s 155us/step - loss: 618.1605 - val_loss: 636.2563\n",
      "Epoch 80/100\n",
      "126/126 [==============================] - 0s 160us/step - loss: 621.2176 - val_loss: 643.2245\n",
      "Epoch 81/100\n",
      "126/126 [==============================] - 0s 156us/step - loss: 629.9098 - val_loss: 635.1091\n",
      "Epoch 82/100\n",
      "126/126 [==============================] - 0s 162us/step - loss: 620.4486 - val_loss: 633.4487\n",
      "Epoch 83/100\n",
      "126/126 [==============================] - 0s 153us/step - loss: 617.7903 - val_loss: 631.6870\n",
      "Epoch 84/100\n",
      "126/126 [==============================] - 0s 157us/step - loss: 616.5497 - val_loss: 631.6554\n",
      "Epoch 85/100\n",
      "126/126 [==============================] - 0s 155us/step - loss: 616.5016 - val_loss: 631.3639\n",
      "Epoch 86/100\n",
      "126/126 [==============================] - 0s 165us/step - loss: 616.1127 - val_loss: 631.9598\n",
      "Epoch 87/100\n",
      "126/126 [==============================] - 0s 153us/step - loss: 617.0652 - val_loss: 638.8140\n",
      "Epoch 88/100\n",
      "126/126 [==============================] - 0s 163us/step - loss: 621.3337 - val_loss: 635.5634\n",
      "Epoch 89/100\n",
      "126/126 [==============================] - 0s 160us/step - loss: 619.4458 - val_loss: 632.5873\n",
      "Epoch 90/100\n",
      "126/126 [==============================] - 0s 154us/step - loss: 617.5785 - val_loss: 639.4088\n",
      "Epoch 91/100\n",
      "126/126 [==============================] - 0s 155us/step - loss: 622.7671 - val_loss: 634.7125\n",
      "Epoch 92/100\n",
      "126/126 [==============================] - 0s 162us/step - loss: 618.9311 - val_loss: 632.7581\n",
      "Epoch 93/100\n",
      "126/126 [==============================] - 0s 151us/step - loss: 618.1560 - val_loss: 632.2906\n",
      "Epoch 94/100\n",
      "126/126 [==============================] - 0s 155us/step - loss: 615.9556 - val_loss: 631.0104\n",
      "Epoch 95/100\n",
      "126/126 [==============================] - 0s 156us/step - loss: 615.2128 - val_loss: 631.1622\n",
      "Epoch 96/100\n",
      "126/126 [==============================] - 0s 159us/step - loss: 615.0455 - val_loss: 632.5499\n",
      "Epoch 97/100\n",
      "126/126 [==============================] - 0s 166us/step - loss: 616.1792 - val_loss: 639.3531\n",
      "Epoch 98/100\n",
      "126/126 [==============================] - 0s 166us/step - loss: 621.4007 - val_loss: 636.8951\n",
      "Epoch 99/100\n",
      "126/126 [==============================] - 0s 156us/step - loss: 619.7966 - val_loss: 631.9517\n",
      "Epoch 100/100\n",
      "126/126 [==============================] - 0s 152us/step - loss: 616.1968 - val_loss: 633.4851\n"
     ]
    }
   ],
   "source": [
    "vae.fit(x_train,\n",
    "        x_train,\n",
    "        shuffle=True,\n",
    "        epochs=epochs,\n",
    "        batch_size=batch_size,\n",
    "        validation_data=(x_test, x_test))\n",
    "\n",
    "encoder = Model(x, z_mu)"
   ]
  },
  {
   "cell_type": "code",
   "execution_count": 200,
   "metadata": {},
   "outputs": [
    {
     "data": {
      "text/plain": [
       "<matplotlib.colorbar.Colorbar at 0x7f48ac477e80>"
      ]
     },
     "execution_count": 200,
     "metadata": {},
     "output_type": "execute_result"
    },
    {
     "data": {
      "image/png": "[encoded data removed]",
      "text/plain": [
       "<Figure size 432x432 with 2 Axes>"
      ]
     },
     "metadata": {},
     "output_type": "display_data"
    }
   ],
   "source": [
    "# display a 2D plot of the digit classes in the latent space\n",
    "z_test = encoder.predict(x_test, batch_size=batch_size)\n",
    "plt.figure(figsize=(6, 6))\n",
    "plt.scatter(z_test[:, 0], z_test[:, 1], c=y_test,\n",
    "            alpha=.4, s=13**2, cmap='viridis')\n",
    "plt.colorbar()\n"
   ]
  },
  {
   "cell_type": "code",
   "execution_count": 202,
   "metadata": {},
   "outputs": [],
   "source": [
    "val=[4,.5]"
   ]
  },
  {
   "cell_type": "code",
   "execution_count": 211,
   "metadata": {},
   "outputs": [
    {
     "data": {
      "text/plain": [
       "'CTGGTAGCTAGAGATCCCGGAGATCGTTTTGTCAGAGTGGAAAATCTCTAGCAGTGGCGCCCGAACAGGGTCTGGTAAGCGAATGTAAGACCAGAGGAGATCGCTCGACGCAGGACGCGGCTTGCTGAAGTGCACACGGCAAGTGGCGAGTGCGGCGGCTGGTGAGTACGCCAAATTTGATTTGACTAGCGGAGGCTAGAAGGAGAGAGTGGGGTGCGTGAGCGTCAATATTAAGAGGCGAAAAATTAGACACCTGGGAAAGAATTAAGTTAAAGCCAGGGTCAAAGTATTGCTTGTTGATGTAACACCTAGTCTGGGGTAGCAGGGTGCTGGAAAGATTTGCTCTTTACCCTGGCCTTTTTGTGACATCAGGTGGCTGTAATCAGATTCTTCATCATCTTCAACCTGCTCTGCTGTGTGGATCAAAGGAGTTTGTTTCTTTATATTACTCAGTTGCATCGCTCTATTGTGTTGATGAAAAGTTTGAGGTTCGGGACTCCAAGGATGCCTTTGACAAAATAATGGAGTAAGAAATCAATTGTCAGCAAAAAAGTCAGCAGTCTGATGCGGCTGTCAATGGAAAGGTGAGTGAAAATTTTCCTATTGTGGAGATTGATCATGGGGAAATGGTAGTCGAGTCCTTATCTCCTTGATCTTTAATTGGATGGGTGAATGTAATAGAGGAGATGGCTTTCAGCCCAGTGGTAATACCCTTGTTTTGTGGATTTTGAGATGGTGCCTCCCGTGAAGTTTTAAATTCGATGTTAAATTGTGTTGGGGGGGATGAAGGTGCGATGGAAATGTTAAAATATTCGATTATTGTGTAGGGTGGTTAATGGGATAGTTGTGATCGAGTGGTTGGTGGGCGTATTGGTCGTGGCGAAATGTTTGATCGAAGGGGATGTTTGATTGGTGGATGTTGTTGTTCCGTGGTGGATGAAATAGGTTGTATTTGAATTATCCGTCGTATCCGTGTTGGTGAAATGTATATATTATGTAT'"
      ]
     },
     "execution_count": 211,
     "metadata": {},
     "output_type": "execute_result"
    }
   ],
   "source": [
    "''.join(np.round(decoder.predict(np.array(val).reshape(1,2))*4)[0].astype(int).astype(str)).replace('1','A').replace('2','T').replace('3','G').replace('4','C')"
   ]
  },
  {
   "cell_type": "code",
   "execution_count": 212,
   "metadata": {},
   "outputs": [],
   "source": [
    "val=[-2,1]"
   ]
  },
  {
   "cell_type": "code",
   "execution_count": 213,
   "metadata": {},
   "outputs": [
    {
     "data": {
      "text/plain": [
       "'TCCAGTAGTGTGTGCCCGTCTGTTGTGTGACTCTGGTATCTAGAGATCCCTCAGACCCTTTTTGGTTGTGTGGAAAATCTCTAGCAGTGGCGCCCGATCAGGGTCCTGAAAGCGAATGTAAGTCCTTAGGAGATCTCTCGTCGCAGGTCTCGGCTTGCTGAAGTGCTCTCGGCAAGAGGCGAGAGCGGCGTCTGGTGTGTTCGCCAAATTTATTTGACTAGCGGAGGCTAGAAGGAGAGAGATGGGTGCGAGAGCGTCAATGTTAGGAGGGGAAAAATTAGATATTTGGGAAAGAATTAGGTTAAGGCCAGGGGGAAAGAAAGTTTATATGTTAAAACACTTAGTTTGGGCAAGCAGGGAGCTGGAAAGATTTGCACTTTACCCTGGCCTTTTAGATACATCAGAAGGGTGTAAACAAATATTGTAACAACTACAACCAGCTCTTCAGACAGGATCAGAGGAACTTAAATCATTATTCAACACAGTAGCAACTCTCTATTGTGTTCATGAAAAGATAGAGGTACGTGACACCAAGGAAGCCTTAGACAAGATAGAGGAAGAACAAAACAAAAGTCAGCAAAAAACACAGCAGGCAAAAGCGGCTGACGAAAAGGTCTGTCTATATTATCCTTTAGTTCAGAATCTGCAAGGGCAGTTGGTACATCAGCCCATGTCACCTTGAACTTTGAATGCATGGGTAAATGTAATAGAGGAGAAGGCTTTTAGCCCTGAGGTATTACCCATGTTTAGAGCATTATCAGTAGGAGCCACCCCTCTAGATTTAAACACCATGTTCAATACGGTGGGGGGACATCAAGCAGCCATGCAATTTTTAAAAGATACCATTAATGAAGAGGCTGCAGTATGGGATAGTTTACTTCCAGTACAGGCGGGGCCTGTTGCACCAGGCCATTTGAGAGTACCATGGGGTTGTGATTTTGCAGGAACTACTAGTACCCTTCAGGAACAAATAGCATGGATTACAGGTAACCCACCTATT'"
      ]
     },
     "execution_count": 213,
     "metadata": {},
     "output_type": "execute_result"
    }
   ],
   "source": [
    "''.join(np.round(decoder.predict(np.array(val).reshape(1,2))*4)[0].astype(int).astype(str)).replace('1','A').replace('2','T').replace('3','G').replace('4','C')"
   ]
  },
  {
   "cell_type": "markdown",
   "metadata": {},
   "source": [
    "## HW:\n",
    "---\n",
    "    1. what are the hyper parameters you can tune?\n",
    "    2. Tune the models so that the distribution is more compact.\n",
    "    3. Investigate other segments (POL, ENV, INTEGRASE, Reverse-transcriptase, and complete genome)\n",
    "    4. Blast it against the origin sequence data to investigate if we are closer to the clinical subtypes that we shpuld be closer to\n",
    "    5. How well can we actually use this to generate new samples (sequences of hiv clinical subtypes not in the dataset?)"
   ]
  },
  {
   "cell_type": "code",
   "execution_count": null,
   "metadata": {},
   "outputs": [],
   "source": []
  }
 ],
 "metadata": {
  "kernelspec": {
   "display_name": "Python 3",
   "language": "python",
   "name": "python3"
  },
  "language_info": {
   "codemirror_mode": {
    "name": "ipython",
    "version": 3
   },
   "file_extension": ".py",
   "mimetype": "text/x-python",
   "name": "python",
   "nbconvert_exporter": "python",
   "pygments_lexer": "ipython3",
   "version": "3.7.1"
  }
 },
 "nbformat": 4,
 "nbformat_minor": 2
}
