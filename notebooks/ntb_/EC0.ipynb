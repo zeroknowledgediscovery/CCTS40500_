{
 "cells": [
  {
   "cell_type": "code",
   "execution_count": 1,
   "metadata": {},
   "outputs": [],
   "source": [
    "import numpy as np\n",
    "import matplotlib.pyplot as plt\n",
    "from sklearn import svm\n",
    "import pandas as pd\n",
    "import seaborn as sns\n",
    "from sklearn.model_selection import train_test_split\n",
    "from sklearn import metrics\n",
    "from sklearn import neighbors, datasets\n",
    "from sklearn.tree import DecisionTreeClassifier\n",
    "from sklearn.ensemble import RandomForestClassifier\n",
    "from sklearn.ensemble import AdaBoostClassifier\n",
    "\n",
    "\n",
    "%matplotlib inline"
   ]
  },
  {
   "cell_type": "markdown",
   "metadata": {},
   "source": [
    "\n",
    "# Ensemble Classification\n",
    "\n",
    "\n"
   ]
  },
  {
   "cell_type": "code",
   "execution_count": 6,
   "metadata": {},
   "outputs": [],
   "source": [
    "\n",
    "Dp0=pd.read_csv('./data_st/S_MPOS_27_100',delimiter=\" \",header=None)\n",
    "Dn0=pd.read_csv('./data_st/S_MNEG_27_100',delimiter=\" \",header=None)\n",
    "\n",
    "Dp0s=Dp0\n",
    "Dn0s=Dn0.sample(Dp0s.index.size)\n",
    "Dn0s=Dn0.sample(2000)\n",
    "\n",
    "\n",
    "D=pd.concat([Dp0s,Dn0s])\n",
    "X=D.values\n",
    "y=np.append(np.zeros([Dp0s.index.size,1]),np.ones([Dn0s.index.size,1]))\n",
    "X_train, X_test, y_train, y_test = train_test_split(X, y, test_size=0.5)"
   ]
  },
  {
   "cell_type": "code",
   "execution_count": 3,
   "metadata": {},
   "outputs": [
    {
     "name": "stdout",
     "output_type": "stream",
     "text": [
      "Number of mislabeled points out of a total 1102 points : 479\n",
      "0.5653357531760436 0.5466019129385465\n"
     ]
    }
   ],
   "source": [
    "clf = RandomForestClassifier(max_depth=None, class_weight='balanced',n_estimators=1000)\n",
    "y_pred = clf.fit(X_train, y_train).predict(X_test)\n",
    "\n",
    "print(\"Number of mislabeled points out of a total %d points : %d\"% (y_test.shape[0],(y_test != y_pred).sum()))\n",
    "\n",
    "acc=clf.score(X_test,y_test)\n",
    "y_pred=clf.predict_proba(X_test)\n",
    "fpr, tpr, thresholds = metrics.roc_curve(y_test,y_pred[:,1], pos_label=1)\n",
    "auc=metrics.auc(fpr, tpr)\n",
    "\n",
    "print acc,auc"
   ]
  },
  {
   "cell_type": "code",
   "execution_count": 4,
   "metadata": {},
   "outputs": [
    {
     "name": "stdout",
     "output_type": "stream",
     "text": [
      "Number of mislabeled points out of a total 1102 points : 126\n",
      "0.8856624319419237 0.5376603594425376\n"
     ]
    }
   ],
   "source": [
    "clf = AdaBoostClassifier(n_estimators=1000)\n",
    "y_pred = clf.fit(X_train, y_train).predict(X_test)\n",
    "\n",
    "print(\"Number of mislabeled points out of a total %d points : %d\"% (y_test.shape[0],(y_test != y_pred).sum()))\n",
    "\n",
    "acc=clf.score(X_test,y_test)\n",
    "y_pred=clf.predict_proba(X_test)\n",
    "fpr, tpr, thresholds = metrics.roc_curve(y_test,y_pred[:,1], pos_label=1)\n",
    "auc=metrics.auc(fpr, tpr)\n",
    "\n",
    "print acc,auc"
   ]
  },
  {
   "cell_type": "code",
   "execution_count": 7,
   "metadata": {},
   "outputs": [
    {
     "name": "stdout",
     "output_type": "stream",
     "text": [
      "0.8756256441970727\n",
      "0.9182951968666254\n",
      "0.9164790764790766\n",
      "0.9001288394145537\n"
     ]
    }
   ],
   "source": [
    "from sklearn.model_selection import cross_val_score\n",
    "from sklearn.datasets import make_blobs\n",
    "from sklearn.ensemble import RandomForestClassifier\n",
    "from sklearn.ensemble import ExtraTreesClassifier\n",
    "from sklearn.tree import DecisionTreeClassifier\n",
    "from sklearn.ensemble import AdaBoostClassifier\n",
    "\n",
    "from sklearn.datasets import load_iris\n",
    "iris=load_iris()\n",
    "#X, y = make_blobs(n_samples=10000, n_features=10, centers=100,\n",
    "#     random_state=0)\n",
    "#X=iris.data\n",
    "#y=iris.target\n",
    "\n",
    "clf = DecisionTreeClassifier(max_depth=None, min_samples_split=2,\n",
    "     random_state=0)\n",
    "scores = cross_val_score(clf, X, y, cv=5)\n",
    "print scores.mean()                               \n",
    "\n",
    "\n",
    "clf = RandomForestClassifier(n_estimators=500, max_depth=None,\n",
    "  min_samples_split=2, random_state=0)\n",
    "scores = cross_val_score(clf, X, y, cv=5)\n",
    "print scores.mean()                               \n",
    "\n",
    "clf = ExtraTreesClassifier(n_estimators=500, max_depth=None,\n",
    "     min_samples_split=2, random_state=0)\n",
    "scores = cross_val_score(clf, X, y, cv=5)\n",
    "print scores.mean() \n",
    "\n",
    "clf = AdaBoostClassifier(n_estimators=500)\n",
    "scores = cross_val_score(clf, X, y, cv=5)\n",
    "print scores.mean() \n"
   ]
  },
  {
   "cell_type": "code",
   "execution_count": null,
   "metadata": {},
   "outputs": [],
   "source": []
  }
 ],
 "metadata": {
  "kernelspec": {
   "display_name": "Python 2",
   "language": "python",
   "name": "python2"
  },
  "language_info": {
   "codemirror_mode": {
    "name": "ipython",
    "version": 2
   },
   "file_extension": ".py",
   "mimetype": "text/x-python",
   "name": "python",
   "nbconvert_exporter": "python",
   "pygments_lexer": "ipython2",
   "version": "2.7.13"
  }
 },
 "nbformat": 4,
 "nbformat_minor": 1
}
