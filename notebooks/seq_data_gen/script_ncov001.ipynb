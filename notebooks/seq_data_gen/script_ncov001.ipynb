{
 "cells": [
  {
   "cell_type": "code",
   "execution_count": null,
   "metadata": {},
   "outputs": [],
   "source": [
    "import seqpull as sq\n",
    "import pandas as pd\n",
    "import pylab as plt\n",
    "import numpy as np\n",
    "import pickle"
   ]
  },
  {
   "cell_type": "code",
   "execution_count": null,
   "metadata": {},
   "outputs": [],
   "source": [
    "recordfile='SARS-CoV-2.rec'\n",
    "pkl_file=open(recordfile,'rb')\n",
    "records_sars=pickle.load(pkl_file)"
   ]
  },
  {
   "cell_type": "code",
   "execution_count": null,
   "metadata": {},
   "outputs": [],
   "source": [
    "[SF,SFi]=sq.procSequence(records_sars,\n",
    "                 begIndex=21563,endIndex=25384,\n",
    "                 N=5000,LMAX=35000,integer_dataframe=True,heatmap=True)"
   ]
  },
  {
   "cell_type": "code",
   "execution_count": null,
   "metadata": {},
   "outputs": [],
   "source": [
    "SF"
   ]
  },
  {
   "cell_type": "code",
   "execution_count": null,
   "metadata": {},
   "outputs": [],
   "source": [
    "SF.drop('accession',axis=1).dropna(how='all')"
   ]
  },
  {
   "cell_type": "code",
   "execution_count": null,
   "metadata": {},
   "outputs": [],
   "source": [
    "organism=\"2019-nCoV[Orgn]\"\n",
    "recordfile,num=sq.getRecord(organism)\n",
    "pkl_file=open(recordfile,'rb')\n",
    "records_cov=pickle.load(pkl_file)\n",
    "[SFnc,SFinc]=sq.procSequence(records_cov,\n",
    "                 begIndex=21563,endIndex=25384,\n",
    "                 N=6000,LMAX=35000,integer_dataframe=True,heatmap=True)"
   ]
  },
  {
   "cell_type": "code",
   "execution_count": null,
   "metadata": {},
   "outputs": [],
   "source": [
    "accession_ncov=list(set(list(SFnc.accession.values)).intersection(set(list(SF.accession.values))))"
   ]
  },
  {
   "cell_type": "code",
   "execution_count": null,
   "metadata": {},
   "outputs": [],
   "source": [
    "len(accession_ncov)"
   ]
  },
  {
   "cell_type": "code",
   "execution_count": null,
   "metadata": {
    "scrolled": false
   },
   "outputs": [],
   "source": [
    "host_sars=[]\n",
    "\n",
    "for record in records_sars:\n",
    "    d=sq.getInfo(record)\n",
    "    if 'host' in d.keys():\n",
    "        hh=d['host']\n",
    "    else:\n",
    "        hh=d['organism']\n",
    "    host_sars=np.append(host_sars,hh)\n",
    "host_sars"
   ]
  },
  {
   "cell_type": "code",
   "execution_count": null,
   "metadata": {
    "scrolled": false
   },
   "outputs": [],
   "source": [
    "set(list(host_sars))  # makea dict top level: mouse/rat, bat, cattle/cows/goat/calf/bovine/donkey/pigs/camel"
   ]
  },
  {
   "cell_type": "markdown",
   "metadata": {},
   "source": [
    "https://www.sciencedirect.com/science/article/pii/S0022283603008659\n",
    "spike: 21563..25384"
   ]
  },
  {
   "cell_type": "code",
   "execution_count": null,
   "metadata": {},
   "outputs": [],
   "source": [
    "organism=\"Torovirus[Orgn]\"\n",
    "recordfile,num=sq.getRecord(organism)\n",
    "pkl_file=open(recordfile,'rb')\n",
    "records_cov=pickle.load(pkl_file)\n",
    "[SFt,SFit]=sq.procSequence(records_cov,\n",
    "                 begIndex=0,endIndex=25000,\n",
    "                 N=num,LMAX=35000,integer_dataframe=True,heatmap=True)"
   ]
  },
  {
   "cell_type": "code",
   "execution_count": null,
   "metadata": {},
   "outputs": [],
   "source": [
    "num"
   ]
  },
  {
   "cell_type": "code",
   "execution_count": null,
   "metadata": {},
   "outputs": [],
   "source": []
  }
 ],
 "metadata": {
  "kernelspec": {
   "display_name": "Python 2",
   "language": "python",
   "name": "python2"
  },
  "language_info": {
   "codemirror_mode": {
    "name": "ipython",
    "version": 3
   },
   "file_extension": ".py",
   "mimetype": "text/x-python",
   "name": "python",
   "nbconvert_exporter": "python",
   "pygments_lexer": "ipython3",
   "version": "3.7.1"
  }
 },
 "nbformat": 4,
 "nbformat_minor": 2
}
